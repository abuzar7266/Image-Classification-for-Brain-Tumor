{
 "cells": [
  {
   "cell_type": "code",
   "execution_count": 399,
   "id": "c879ba03",
   "metadata": {},
   "outputs": [],
   "source": [
    "import numpy as np # linear algebra\n",
    "import pandas as pd # data processing, CSV file I/O (e.g. pd.read_csv)\n",
    "import math\n",
    "import cv2\n",
    "import matplotlib.pyplot as plt\n",
    "import os\n",
    "import tensorflow as tf\n",
    "import random\n",
    "import copy"
   ]
  },
  {
   "cell_type": "code",
   "execution_count": 400,
   "id": "8ffb0bd4",
   "metadata": {},
   "outputs": [],
   "source": [
    "def load_images(path,fileStore):\n",
    "    Img_List = []\n",
    "    for file_instance in fileStore:\n",
    "        img = cv2.imread(path+'/'+file_instance)\n",
    "        adjusted = cv2.resize(img,(32,32))\n",
    "        (b,g,r) = cv2.split(adjusted)\n",
    "        img = cv2.merge([b,g,r])\n",
    "        Img_List.append(img)\n",
    "    return Img_List"
   ]
  },
  {
   "cell_type": "code",
   "execution_count": 401,
   "id": "1407efaa",
   "metadata": {},
   "outputs": [],
   "source": [
    "yes=os.listdir('./data/yes')\n",
    "no=os.listdir('./data/no')"
   ]
  },
  {
   "cell_type": "code",
   "execution_count": 402,
   "id": "42924d0d",
   "metadata": {},
   "outputs": [],
   "source": [
    "imgList = np.concatenate([yes,no])\n",
    "class_no = np.full(len(no),0)\n",
    "class_yes = np.full(len(yes),1)\n",
    "classList = np.concatenate([class_yes,class_no])"
   ]
  },
  {
   "cell_type": "code",
   "execution_count": 403,
   "id": "013822c5",
   "metadata": {},
   "outputs": [],
   "source": [
    "imgBuffer = []\n",
    "imgBuffer.extend(load_images('./data/yes',yes))\n",
    "imgBuffer.extend(load_images('./data/no',no))"
   ]
  },
  {
   "cell_type": "code",
   "execution_count": 404,
   "id": "69190613",
   "metadata": {},
   "outputs": [],
   "source": [
    "images = np.squeeze(imgBuffer)"
   ]
  },
  {
   "cell_type": "code",
   "execution_count": 405,
   "id": "26fba778",
   "metadata": {},
   "outputs": [],
   "source": [
    "indices = [i for i in range(0,len(classList))]"
   ]
  },
  {
   "cell_type": "code",
   "execution_count": 406,
   "id": "03f79bfa",
   "metadata": {},
   "outputs": [],
   "source": [
    "random.shuffle(indices)"
   ]
  },
  {
   "cell_type": "code",
   "execution_count": 407,
   "id": "0944d676",
   "metadata": {},
   "outputs": [],
   "source": [
    "updated_images = []\n",
    "updated_classList = []\n",
    "for i in indices:\n",
    "    updated_images.append(images[i])\n",
    "    updated_classList.append(classList[i])\n",
    "images = np.array(updated_images,dtype=np.float32)\n",
    "classList = np.array(updated_classList,dtype=np.float32)"
   ]
  },
  {
   "cell_type": "code",
   "execution_count": 408,
   "id": "74620ddd",
   "metadata": {},
   "outputs": [],
   "source": [
    "images = images.astype('float32')\n",
    "images = images/255"
   ]
  },
  {
   "cell_type": "code",
   "execution_count": 409,
   "id": "92d1beef",
   "metadata": {},
   "outputs": [],
   "source": [
    "(train_x,train_y),(test_x,test_y) = (images[:190],classList[:190]),(images[190:],classList[190:])\n",
    "(x_valid , y_valid) = (test_x[:63], test_y[:63])"
   ]
  },
  {
   "cell_type": "code",
   "execution_count": 410,
   "id": "1302fb8e",
   "metadata": {},
   "outputs": [],
   "source": [
    "model = tf.keras.models.Sequential([\n",
    "    tf.keras.layers.Conv2D(filters=64,kernel_size=9, padding='same', activation='relu', input_shape=(32,32,3)),\n",
    "    tf.keras.layers.MaxPooling2D(pool_size=2),\n",
    "    tf.keras.layers.Flatten(),\n",
    "    tf.keras.layers.Dense(128, activation='relu'),\n",
    "    tf.keras.layers.Dense(1, activation='sigmoid'),\n",
    "])"
   ]
  },
  {
   "cell_type": "code",
   "execution_count": 411,
   "id": "233146fd",
   "metadata": {},
   "outputs": [],
   "source": [
    "model.compile(loss='binary_crossentropy',\n",
    "             optimizer=tf.keras.optimizers.Adam(),\n",
    "             metrics=['acc'])"
   ]
  },
  {
   "cell_type": "code",
   "execution_count": 412,
   "id": "5a868e94",
   "metadata": {},
   "outputs": [
    {
     "name": "stdout",
     "output_type": "stream",
     "text": [
      "Epoch 1/150\n",
      "2/2 [==============================] - 1s 347ms/step - loss: 0.8688 - acc: 0.4105 - val_loss: 0.6228 - val_acc: 0.7302\n",
      "Epoch 2/150\n",
      "2/2 [==============================] - 0s 199ms/step - loss: 0.6068 - acc: 0.7421 - val_loss: 0.6139 - val_acc: 0.6984\n",
      "Epoch 3/150\n",
      "2/2 [==============================] - 1s 249ms/step - loss: 0.5617 - acc: 0.7684 - val_loss: 0.5800 - val_acc: 0.7460\n",
      "Epoch 4/150\n",
      "2/2 [==============================] - 1s 351ms/step - loss: 0.5235 - acc: 0.7632 - val_loss: 0.5810 - val_acc: 0.7460\n",
      "Epoch 5/150\n",
      "2/2 [==============================] - 1s 539ms/step - loss: 0.4968 - acc: 0.7789 - val_loss: 0.5927 - val_acc: 0.7460\n",
      "Epoch 6/150\n",
      "2/2 [==============================] - 1s 307ms/step - loss: 0.4692 - acc: 0.7895 - val_loss: 0.6182 - val_acc: 0.7302\n",
      "Epoch 7/150\n",
      "2/2 [==============================] - 1s 271ms/step - loss: 0.4534 - acc: 0.7842 - val_loss: 0.6435 - val_acc: 0.7460\n",
      "Epoch 8/150\n",
      "2/2 [==============================] - 1s 254ms/step - loss: 0.4483 - acc: 0.7842 - val_loss: 0.6441 - val_acc: 0.7302\n",
      "Epoch 9/150\n",
      "2/2 [==============================] - 1s 236ms/step - loss: 0.4246 - acc: 0.8211 - val_loss: 0.6380 - val_acc: 0.7619\n",
      "Epoch 10/150\n",
      "2/2 [==============================] - 1s 239ms/step - loss: 0.3917 - acc: 0.8316 - val_loss: 0.6526 - val_acc: 0.7619\n",
      "Epoch 11/150\n",
      "2/2 [==============================] - 0s 208ms/step - loss: 0.3793 - acc: 0.8316 - val_loss: 0.6401 - val_acc: 0.6508\n",
      "Epoch 12/150\n",
      "2/2 [==============================] - 0s 193ms/step - loss: 0.3763 - acc: 0.8526 - val_loss: 0.6056 - val_acc: 0.7937\n",
      "Epoch 13/150\n",
      "2/2 [==============================] - 0s 189ms/step - loss: 0.3427 - acc: 0.8526 - val_loss: 0.6181 - val_acc: 0.7778\n",
      "Epoch 14/150\n",
      "2/2 [==============================] - 0s 189ms/step - loss: 0.3226 - acc: 0.8526 - val_loss: 0.6126 - val_acc: 0.6984\n",
      "Epoch 15/150\n",
      "2/2 [==============================] - 0s 188ms/step - loss: 0.3123 - acc: 0.8947 - val_loss: 0.6136 - val_acc: 0.7778\n",
      "Epoch 16/150\n",
      "2/2 [==============================] - 0s 229ms/step - loss: 0.2760 - acc: 0.8947 - val_loss: 0.6303 - val_acc: 0.7619\n",
      "Epoch 17/150\n",
      "2/2 [==============================] - 0s 197ms/step - loss: 0.2583 - acc: 0.8947 - val_loss: 0.6578 - val_acc: 0.7937\n",
      "Epoch 18/150\n",
      "2/2 [==============================] - 0s 192ms/step - loss: 0.2414 - acc: 0.9105 - val_loss: 0.6571 - val_acc: 0.7143\n",
      "Epoch 19/150\n",
      "2/2 [==============================] - 0s 195ms/step - loss: 0.2208 - acc: 0.9263 - val_loss: 0.6523 - val_acc: 0.7302\n",
      "Epoch 20/150\n",
      "2/2 [==============================] - 0s 191ms/step - loss: 0.2046 - acc: 0.9421 - val_loss: 0.6563 - val_acc: 0.7460\n",
      "Epoch 21/150\n",
      "2/2 [==============================] - 0s 200ms/step - loss: 0.1902 - acc: 0.9421 - val_loss: 0.7091 - val_acc: 0.6508\n",
      "Epoch 22/150\n",
      "2/2 [==============================] - 0s 211ms/step - loss: 0.2024 - acc: 0.9421 - val_loss: 0.7406 - val_acc: 0.8095\n",
      "Epoch 23/150\n",
      "2/2 [==============================] - 0s 193ms/step - loss: 0.1870 - acc: 0.9316 - val_loss: 0.6960 - val_acc: 0.7143\n",
      "Epoch 24/150\n",
      "2/2 [==============================] - 0s 205ms/step - loss: 0.1733 - acc: 0.9421 - val_loss: 0.7093 - val_acc: 0.7619\n",
      "Epoch 25/150\n",
      "2/2 [==============================] - 0s 190ms/step - loss: 0.1420 - acc: 0.9789 - val_loss: 0.7698 - val_acc: 0.8254\n",
      "Epoch 26/150\n",
      "2/2 [==============================] - 0s 195ms/step - loss: 0.1584 - acc: 0.9579 - val_loss: 0.7184 - val_acc: 0.6667\n",
      "Epoch 27/150\n",
      "2/2 [==============================] - 0s 204ms/step - loss: 0.1330 - acc: 0.9789 - val_loss: 0.7220 - val_acc: 0.7143\n",
      "Epoch 28/150\n",
      "2/2 [==============================] - 0s 180ms/step - loss: 0.1141 - acc: 0.9789 - val_loss: 0.7570 - val_acc: 0.7778\n",
      "Epoch 29/150\n",
      "2/2 [==============================] - 0s 192ms/step - loss: 0.1107 - acc: 0.9895 - val_loss: 0.7533 - val_acc: 0.7460\n",
      "Epoch 30/150\n",
      "2/2 [==============================] - 0s 192ms/step - loss: 0.0963 - acc: 0.9842 - val_loss: 0.7624 - val_acc: 0.7143\n",
      "Epoch 31/150\n",
      "2/2 [==============================] - 0s 194ms/step - loss: 0.0875 - acc: 0.9842 - val_loss: 0.7837 - val_acc: 0.7619\n",
      "Epoch 32/150\n",
      "2/2 [==============================] - 0s 203ms/step - loss: 0.0809 - acc: 0.9895 - val_loss: 0.7872 - val_acc: 0.7619\n",
      "Epoch 33/150\n",
      "2/2 [==============================] - 0s 193ms/step - loss: 0.0703 - acc: 0.9947 - val_loss: 0.7900 - val_acc: 0.6984\n",
      "Epoch 34/150\n",
      "2/2 [==============================] - 0s 191ms/step - loss: 0.0706 - acc: 0.9947 - val_loss: 0.8023 - val_acc: 0.7619\n",
      "Epoch 35/150\n",
      "2/2 [==============================] - 0s 197ms/step - loss: 0.0580 - acc: 1.0000 - val_loss: 0.8447 - val_acc: 0.7778\n",
      "Epoch 36/150\n",
      "2/2 [==============================] - 0s 208ms/step - loss: 0.0553 - acc: 0.9947 - val_loss: 0.8441 - val_acc: 0.7619\n",
      "Epoch 37/150\n",
      "2/2 [==============================] - 0s 205ms/step - loss: 0.0487 - acc: 1.0000 - val_loss: 0.8585 - val_acc: 0.7460\n",
      "Epoch 38/150\n",
      "2/2 [==============================] - 0s 208ms/step - loss: 0.0442 - acc: 1.0000 - val_loss: 0.8975 - val_acc: 0.7778\n",
      "Epoch 39/150\n",
      "2/2 [==============================] - 0s 200ms/step - loss: 0.0422 - acc: 1.0000 - val_loss: 0.8890 - val_acc: 0.7778\n",
      "Epoch 40/150\n",
      "2/2 [==============================] - 0s 198ms/step - loss: 0.0359 - acc: 1.0000 - val_loss: 0.8833 - val_acc: 0.7460\n",
      "Epoch 41/150\n",
      "2/2 [==============================] - 0s 194ms/step - loss: 0.0328 - acc: 1.0000 - val_loss: 0.9016 - val_acc: 0.7778\n",
      "Epoch 42/150\n",
      "2/2 [==============================] - 0s 208ms/step - loss: 0.0294 - acc: 1.0000 - val_loss: 0.9200 - val_acc: 0.7778\n",
      "Epoch 43/150\n",
      "2/2 [==============================] - 0s 193ms/step - loss: 0.0268 - acc: 1.0000 - val_loss: 0.9258 - val_acc: 0.7778\n",
      "Epoch 44/150\n",
      "2/2 [==============================] - 0s 187ms/step - loss: 0.0246 - acc: 1.0000 - val_loss: 0.9336 - val_acc: 0.7619\n",
      "Epoch 45/150\n",
      "2/2 [==============================] - 0s 187ms/step - loss: 0.0217 - acc: 1.0000 - val_loss: 0.9567 - val_acc: 0.7778\n",
      "Epoch 46/150\n",
      "2/2 [==============================] - 0s 214ms/step - loss: 0.0202 - acc: 1.0000 - val_loss: 0.9548 - val_acc: 0.7619\n",
      "Epoch 47/150\n",
      "2/2 [==============================] - 0s 191ms/step - loss: 0.0182 - acc: 1.0000 - val_loss: 0.9673 - val_acc: 0.7619\n",
      "Epoch 48/150\n",
      "2/2 [==============================] - 0s 174ms/step - loss: 0.0166 - acc: 1.0000 - val_loss: 0.9825 - val_acc: 0.7619\n",
      "Epoch 49/150\n",
      "2/2 [==============================] - 0s 189ms/step - loss: 0.0152 - acc: 1.0000 - val_loss: 0.9960 - val_acc: 0.7619\n",
      "Epoch 50/150\n",
      "2/2 [==============================] - 0s 189ms/step - loss: 0.0141 - acc: 1.0000 - val_loss: 1.0102 - val_acc: 0.7619\n",
      "Epoch 51/150\n",
      "2/2 [==============================] - 0s 203ms/step - loss: 0.0129 - acc: 1.0000 - val_loss: 1.0240 - val_acc: 0.7619\n",
      "Epoch 52/150\n",
      "2/2 [==============================] - 0s 191ms/step - loss: 0.0119 - acc: 1.0000 - val_loss: 1.0336 - val_acc: 0.7619\n",
      "Epoch 53/150\n",
      "2/2 [==============================] - 0s 211ms/step - loss: 0.0111 - acc: 1.0000 - val_loss: 1.0483 - val_acc: 0.7619\n",
      "Epoch 54/150\n",
      "2/2 [==============================] - 0s 188ms/step - loss: 0.0102 - acc: 1.0000 - val_loss: 1.0735 - val_acc: 0.7619\n",
      "Epoch 55/150\n",
      "2/2 [==============================] - 0s 206ms/step - loss: 0.0096 - acc: 1.0000 - val_loss: 1.0840 - val_acc: 0.7619\n",
      "Epoch 56/150\n",
      "2/2 [==============================] - 0s 216ms/step - loss: 0.0089 - acc: 1.0000 - val_loss: 1.0783 - val_acc: 0.7619\n",
      "Epoch 57/150\n",
      "2/2 [==============================] - 0s 190ms/step - loss: 0.0085 - acc: 1.0000 - val_loss: 1.0908 - val_acc: 0.7619\n",
      "Epoch 58/150\n",
      "2/2 [==============================] - 0s 196ms/step - loss: 0.0078 - acc: 1.0000 - val_loss: 1.1098 - val_acc: 0.7619\n",
      "Epoch 59/150\n",
      "2/2 [==============================] - 0s 203ms/step - loss: 0.0073 - acc: 1.0000 - val_loss: 1.1057 - val_acc: 0.7619\n",
      "Epoch 60/150\n",
      "2/2 [==============================] - 0s 197ms/step - loss: 0.0068 - acc: 1.0000 - val_loss: 1.1113 - val_acc: 0.7619\n",
      "Epoch 61/150\n",
      "2/2 [==============================] - 0s 205ms/step - loss: 0.0063 - acc: 1.0000 - val_loss: 1.1268 - val_acc: 0.7619\n",
      "Epoch 62/150\n",
      "2/2 [==============================] - 0s 212ms/step - loss: 0.0060 - acc: 1.0000 - val_loss: 1.1362 - val_acc: 0.7619\n",
      "Epoch 63/150\n"
     ]
    },
    {
     "name": "stdout",
     "output_type": "stream",
     "text": [
      "2/2 [==============================] - 1s 230ms/step - loss: 0.0057 - acc: 1.0000 - val_loss: 1.1374 - val_acc: 0.7619\n",
      "Epoch 64/150\n",
      "2/2 [==============================] - 0s 199ms/step - loss: 0.0053 - acc: 1.0000 - val_loss: 1.1421 - val_acc: 0.7619\n",
      "Epoch 65/150\n",
      "2/2 [==============================] - 0s 204ms/step - loss: 0.0050 - acc: 1.0000 - val_loss: 1.1503 - val_acc: 0.7619\n",
      "Epoch 66/150\n",
      "2/2 [==============================] - 0s 200ms/step - loss: 0.0048 - acc: 1.0000 - val_loss: 1.1604 - val_acc: 0.7619\n",
      "Epoch 67/150\n",
      "2/2 [==============================] - 0s 203ms/step - loss: 0.0045 - acc: 1.0000 - val_loss: 1.1643 - val_acc: 0.7619\n",
      "Epoch 68/150\n",
      "2/2 [==============================] - 0s 190ms/step - loss: 0.0043 - acc: 1.0000 - val_loss: 1.1726 - val_acc: 0.7619\n",
      "Epoch 69/150\n",
      "2/2 [==============================] - 0s 195ms/step - loss: 0.0041 - acc: 1.0000 - val_loss: 1.1891 - val_acc: 0.7619\n",
      "Epoch 70/150\n",
      "2/2 [==============================] - 0s 188ms/step - loss: 0.0038 - acc: 1.0000 - val_loss: 1.1941 - val_acc: 0.7619\n",
      "Epoch 71/150\n",
      "2/2 [==============================] - 0s 206ms/step - loss: 0.0037 - acc: 1.0000 - val_loss: 1.2010 - val_acc: 0.7619\n",
      "Epoch 72/150\n",
      "2/2 [==============================] - 0s 190ms/step - loss: 0.0035 - acc: 1.0000 - val_loss: 1.2137 - val_acc: 0.7619\n",
      "Epoch 73/150\n",
      "2/2 [==============================] - 0s 174ms/step - loss: 0.0034 - acc: 1.0000 - val_loss: 1.2224 - val_acc: 0.7619\n",
      "Epoch 74/150\n",
      "2/2 [==============================] - 0s 192ms/step - loss: 0.0032 - acc: 1.0000 - val_loss: 1.2227 - val_acc: 0.7460\n",
      "Epoch 75/150\n",
      "2/2 [==============================] - 0s 179ms/step - loss: 0.0031 - acc: 1.0000 - val_loss: 1.2295 - val_acc: 0.7619\n",
      "Epoch 76/150\n",
      "2/2 [==============================] - 0s 206ms/step - loss: 0.0029 - acc: 1.0000 - val_loss: 1.2387 - val_acc: 0.7619\n",
      "Epoch 77/150\n",
      "2/2 [==============================] - 0s 203ms/step - loss: 0.0028 - acc: 1.0000 - val_loss: 1.2374 - val_acc: 0.7619\n",
      "Epoch 78/150\n",
      "2/2 [==============================] - 0s 189ms/step - loss: 0.0027 - acc: 1.0000 - val_loss: 1.2349 - val_acc: 0.7460\n",
      "Epoch 79/150\n",
      "2/2 [==============================] - 0s 191ms/step - loss: 0.0026 - acc: 1.0000 - val_loss: 1.2407 - val_acc: 0.7460\n",
      "Epoch 80/150\n",
      "2/2 [==============================] - 0s 209ms/step - loss: 0.0025 - acc: 1.0000 - val_loss: 1.2607 - val_acc: 0.7619\n",
      "Epoch 81/150\n",
      "2/2 [==============================] - 0s 186ms/step - loss: 0.0024 - acc: 1.0000 - val_loss: 1.2719 - val_acc: 0.7619\n",
      "Epoch 82/150\n",
      "2/2 [==============================] - 0s 187ms/step - loss: 0.0023 - acc: 1.0000 - val_loss: 1.2712 - val_acc: 0.7460\n",
      "Epoch 83/150\n",
      "2/2 [==============================] - 0s 195ms/step - loss: 0.0022 - acc: 1.0000 - val_loss: 1.2815 - val_acc: 0.7460\n",
      "Epoch 84/150\n",
      "2/2 [==============================] - 0s 191ms/step - loss: 0.0021 - acc: 1.0000 - val_loss: 1.2970 - val_acc: 0.7619\n",
      "Epoch 85/150\n",
      "2/2 [==============================] - 0s 175ms/step - loss: 0.0021 - acc: 1.0000 - val_loss: 1.3030 - val_acc: 0.7619\n",
      "Epoch 86/150\n",
      "2/2 [==============================] - 0s 184ms/step - loss: 0.0020 - acc: 1.0000 - val_loss: 1.3104 - val_acc: 0.7619\n",
      "Epoch 87/150\n",
      "2/2 [==============================] - 0s 205ms/step - loss: 0.0019 - acc: 1.0000 - val_loss: 1.3133 - val_acc: 0.7619\n",
      "Epoch 88/150\n",
      "2/2 [==============================] - 0s 189ms/step - loss: 0.0018 - acc: 1.0000 - val_loss: 1.3147 - val_acc: 0.7460\n",
      "Epoch 89/150\n",
      "2/2 [==============================] - 0s 222ms/step - loss: 0.0018 - acc: 1.0000 - val_loss: 1.3191 - val_acc: 0.7460\n",
      "Epoch 90/150\n",
      "2/2 [==============================] - 0s 201ms/step - loss: 0.0017 - acc: 1.0000 - val_loss: 1.3321 - val_acc: 0.7619\n",
      "Epoch 91/150\n",
      "2/2 [==============================] - 0s 197ms/step - loss: 0.0016 - acc: 1.0000 - val_loss: 1.3450 - val_acc: 0.7619\n",
      "Epoch 92/150\n",
      "2/2 [==============================] - 0s 203ms/step - loss: 0.0016 - acc: 1.0000 - val_loss: 1.3450 - val_acc: 0.7619\n",
      "Epoch 93/150\n",
      "2/2 [==============================] - 0s 207ms/step - loss: 0.0015 - acc: 1.0000 - val_loss: 1.3406 - val_acc: 0.7460\n",
      "Epoch 94/150\n",
      "2/2 [==============================] - 0s 207ms/step - loss: 0.0015 - acc: 1.0000 - val_loss: 1.3446 - val_acc: 0.7460\n",
      "Epoch 95/150\n",
      "2/2 [==============================] - 0s 176ms/step - loss: 0.0014 - acc: 1.0000 - val_loss: 1.3493 - val_acc: 0.7619\n",
      "Epoch 96/150\n",
      "2/2 [==============================] - 0s 200ms/step - loss: 0.0014 - acc: 1.0000 - val_loss: 1.3558 - val_acc: 0.7619\n",
      "Epoch 97/150\n",
      "2/2 [==============================] - 0s 187ms/step - loss: 0.0013 - acc: 1.0000 - val_loss: 1.3630 - val_acc: 0.7619\n",
      "Epoch 98/150\n",
      "2/2 [==============================] - 0s 189ms/step - loss: 0.0013 - acc: 1.0000 - val_loss: 1.3646 - val_acc: 0.7619\n",
      "Epoch 99/150\n",
      "2/2 [==============================] - 0s 206ms/step - loss: 0.0013 - acc: 1.0000 - val_loss: 1.3675 - val_acc: 0.7619\n",
      "Epoch 100/150\n",
      "2/2 [==============================] - 0s 199ms/step - loss: 0.0012 - acc: 1.0000 - val_loss: 1.3701 - val_acc: 0.7460\n",
      "Epoch 101/150\n",
      "2/2 [==============================] - 0s 203ms/step - loss: 0.0012 - acc: 1.0000 - val_loss: 1.3711 - val_acc: 0.7460\n",
      "Epoch 102/150\n",
      "2/2 [==============================] - 0s 189ms/step - loss: 0.0012 - acc: 1.0000 - val_loss: 1.3786 - val_acc: 0.7460\n",
      "Epoch 103/150\n",
      "2/2 [==============================] - 0s 196ms/step - loss: 0.0011 - acc: 1.0000 - val_loss: 1.3885 - val_acc: 0.7619\n",
      "Epoch 104/150\n",
      "2/2 [==============================] - 0s 192ms/step - loss: 0.0011 - acc: 1.0000 - val_loss: 1.3951 - val_acc: 0.7619\n",
      "Epoch 105/150\n",
      "2/2 [==============================] - 0s 192ms/step - loss: 0.0011 - acc: 1.0000 - val_loss: 1.3985 - val_acc: 0.7619\n",
      "Epoch 106/150\n",
      "2/2 [==============================] - 0s 196ms/step - loss: 0.0010 - acc: 1.0000 - val_loss: 1.3972 - val_acc: 0.7460\n",
      "Epoch 107/150\n",
      "2/2 [==============================] - 0s 189ms/step - loss: 0.0010 - acc: 1.0000 - val_loss: 1.4022 - val_acc: 0.7460\n",
      "Epoch 108/150\n",
      "2/2 [==============================] - 0s 196ms/step - loss: 9.8359e-04 - acc: 1.0000 - val_loss: 1.4090 - val_acc: 0.7619\n",
      "Epoch 109/150\n",
      "2/2 [==============================] - 0s 172ms/step - loss: 9.5308e-04 - acc: 1.0000 - val_loss: 1.4144 - val_acc: 0.7619\n",
      "Epoch 110/150\n",
      "2/2 [==============================] - 0s 191ms/step - loss: 9.3112e-04 - acc: 1.0000 - val_loss: 1.4191 - val_acc: 0.7619\n",
      "Epoch 111/150\n",
      "2/2 [==============================] - 0s 193ms/step - loss: 9.0703e-04 - acc: 1.0000 - val_loss: 1.4213 - val_acc: 0.7619\n",
      "Epoch 112/150\n",
      "2/2 [==============================] - 0s 182ms/step - loss: 8.8350e-04 - acc: 1.0000 - val_loss: 1.4248 - val_acc: 0.7619\n",
      "Epoch 113/150\n",
      "2/2 [==============================] - 0s 204ms/step - loss: 8.6173e-04 - acc: 1.0000 - val_loss: 1.4295 - val_acc: 0.7619\n",
      "Epoch 114/150\n",
      "2/2 [==============================] - 0s 188ms/step - loss: 8.4144e-04 - acc: 1.0000 - val_loss: 1.4324 - val_acc: 0.7619\n",
      "Epoch 115/150\n",
      "2/2 [==============================] - 0s 175ms/step - loss: 8.2294e-04 - acc: 1.0000 - val_loss: 1.4336 - val_acc: 0.7460\n",
      "Epoch 116/150\n",
      "2/2 [==============================] - 0s 194ms/step - loss: 8.0234e-04 - acc: 1.0000 - val_loss: 1.4368 - val_acc: 0.7460\n",
      "Epoch 117/150\n",
      "2/2 [==============================] - 0s 180ms/step - loss: 7.8293e-04 - acc: 1.0000 - val_loss: 1.4387 - val_acc: 0.7460\n",
      "Epoch 118/150\n",
      "2/2 [==============================] - 0s 197ms/step - loss: 7.6872e-04 - acc: 1.0000 - val_loss: 1.4412 - val_acc: 0.7460\n",
      "Epoch 119/150\n",
      "2/2 [==============================] - 0s 188ms/step - loss: 7.4793e-04 - acc: 1.0000 - val_loss: 1.4468 - val_acc: 0.7619\n",
      "Epoch 120/150\n",
      "2/2 [==============================] - 0s 189ms/step - loss: 7.3673e-04 - acc: 1.0000 - val_loss: 1.4495 - val_acc: 0.7619\n",
      "Epoch 121/150\n",
      "2/2 [==============================] - 0s 210ms/step - loss: 7.1750e-04 - acc: 1.0000 - val_loss: 1.4476 - val_acc: 0.7460\n",
      "Epoch 122/150\n",
      "2/2 [==============================] - 0s 206ms/step - loss: 7.0622e-04 - acc: 1.0000 - val_loss: 1.4477 - val_acc: 0.7460\n",
      "Epoch 123/150\n",
      "2/2 [==============================] - 0s 187ms/step - loss: 6.8945e-04 - acc: 1.0000 - val_loss: 1.4541 - val_acc: 0.7460\n",
      "Epoch 124/150\n"
     ]
    },
    {
     "name": "stdout",
     "output_type": "stream",
     "text": [
      "2/2 [==============================] - 0s 188ms/step - loss: 6.7134e-04 - acc: 1.0000 - val_loss: 1.4609 - val_acc: 0.7460\n",
      "Epoch 125/150\n",
      "2/2 [==============================] - 0s 189ms/step - loss: 6.6037e-04 - acc: 1.0000 - val_loss: 1.4652 - val_acc: 0.7619\n",
      "Epoch 126/150\n",
      "2/2 [==============================] - 0s 195ms/step - loss: 6.4795e-04 - acc: 1.0000 - val_loss: 1.4670 - val_acc: 0.7460\n",
      "Epoch 127/150\n",
      "2/2 [==============================] - 0s 172ms/step - loss: 6.3269e-04 - acc: 1.0000 - val_loss: 1.4681 - val_acc: 0.7460\n",
      "Epoch 128/150\n",
      "2/2 [==============================] - 0s 173ms/step - loss: 6.1777e-04 - acc: 1.0000 - val_loss: 1.4701 - val_acc: 0.7460\n",
      "Epoch 129/150\n",
      "2/2 [==============================] - 0s 172ms/step - loss: 6.0543e-04 - acc: 1.0000 - val_loss: 1.4734 - val_acc: 0.7460\n",
      "Epoch 130/150\n",
      "2/2 [==============================] - 0s 206ms/step - loss: 5.9279e-04 - acc: 1.0000 - val_loss: 1.4778 - val_acc: 0.7460\n",
      "Epoch 131/150\n",
      "2/2 [==============================] - 0s 177ms/step - loss: 5.8432e-04 - acc: 1.0000 - val_loss: 1.4837 - val_acc: 0.7460\n",
      "Epoch 132/150\n",
      "2/2 [==============================] - 0s 199ms/step - loss: 5.7339e-04 - acc: 1.0000 - val_loss: 1.4913 - val_acc: 0.7619\n",
      "Epoch 133/150\n",
      "2/2 [==============================] - 0s 205ms/step - loss: 5.6459e-04 - acc: 1.0000 - val_loss: 1.4914 - val_acc: 0.7460\n",
      "Epoch 134/150\n",
      "2/2 [==============================] - 0s 188ms/step - loss: 5.4727e-04 - acc: 1.0000 - val_loss: 1.4890 - val_acc: 0.7460\n",
      "Epoch 135/150\n",
      "2/2 [==============================] - 0s 199ms/step - loss: 5.4154e-04 - acc: 1.0000 - val_loss: 1.4894 - val_acc: 0.7460\n",
      "Epoch 136/150\n",
      "2/2 [==============================] - 0s 193ms/step - loss: 5.3186e-04 - acc: 1.0000 - val_loss: 1.4960 - val_acc: 0.7460\n",
      "Epoch 137/150\n",
      "2/2 [==============================] - 0s 217ms/step - loss: 5.1670e-04 - acc: 1.0000 - val_loss: 1.5038 - val_acc: 0.7460\n",
      "Epoch 138/150\n",
      "2/2 [==============================] - 0s 188ms/step - loss: 5.1008e-04 - acc: 1.0000 - val_loss: 1.5088 - val_acc: 0.7619\n",
      "Epoch 139/150\n",
      "2/2 [==============================] - 0s 177ms/step - loss: 5.0465e-04 - acc: 1.0000 - val_loss: 1.5081 - val_acc: 0.7460\n",
      "Epoch 140/150\n",
      "2/2 [==============================] - 0s 221ms/step - loss: 4.9111e-04 - acc: 1.0000 - val_loss: 1.5035 - val_acc: 0.7460\n",
      "Epoch 141/150\n",
      "2/2 [==============================] - 0s 193ms/step - loss: 4.8347e-04 - acc: 1.0000 - val_loss: 1.5049 - val_acc: 0.7460\n",
      "Epoch 142/150\n",
      "2/2 [==============================] - 0s 204ms/step - loss: 4.7660e-04 - acc: 1.0000 - val_loss: 1.5105 - val_acc: 0.7460\n",
      "Epoch 143/150\n",
      "2/2 [==============================] - 0s 183ms/step - loss: 4.6420e-04 - acc: 1.0000 - val_loss: 1.5168 - val_acc: 0.7460\n",
      "Epoch 144/150\n",
      "2/2 [==============================] - 0s 205ms/step - loss: 4.5503e-04 - acc: 1.0000 - val_loss: 1.5214 - val_acc: 0.7460\n",
      "Epoch 145/150\n",
      "2/2 [==============================] - 0s 191ms/step - loss: 4.4799e-04 - acc: 1.0000 - val_loss: 1.5244 - val_acc: 0.7460\n",
      "Epoch 146/150\n",
      "2/2 [==============================] - 0s 183ms/step - loss: 4.4055e-04 - acc: 1.0000 - val_loss: 1.5252 - val_acc: 0.7460\n",
      "Epoch 147/150\n",
      "2/2 [==============================] - 0s 204ms/step - loss: 4.3222e-04 - acc: 1.0000 - val_loss: 1.5262 - val_acc: 0.7460\n",
      "Epoch 148/150\n",
      "2/2 [==============================] - 0s 187ms/step - loss: 4.2406e-04 - acc: 1.0000 - val_loss: 1.5261 - val_acc: 0.7460\n",
      "Epoch 149/150\n",
      "2/2 [==============================] - 0s 190ms/step - loss: 4.2339e-04 - acc: 1.0000 - val_loss: 1.5293 - val_acc: 0.7460\n",
      "Epoch 150/150\n",
      "2/2 [==============================] - 0s 197ms/step - loss: 4.1221e-04 - acc: 1.0000 - val_loss: 1.5384 - val_acc: 0.7460\n"
     ]
    },
    {
     "data": {
      "text/plain": [
       "<keras.callbacks.History at 0x2a41893ee20>"
      ]
     },
     "execution_count": 412,
     "metadata": {},
     "output_type": "execute_result"
    }
   ],
   "source": [
    "model.fit(train_x,\n",
    "         train_y,\n",
    "         batch_size=128,\n",
    "         epochs=150,\n",
    "         validation_data=(x_valid, y_valid),)"
   ]
  },
  {
   "cell_type": "code",
   "execution_count": 413,
   "id": "924f6d9c",
   "metadata": {},
   "outputs": [
    {
     "name": "stdout",
     "output_type": "stream",
     "text": [
      "2/2 [==============================] - 0s 22ms/step - loss: 1.5384 - acc: 0.7460\n"
     ]
    }
   ],
   "source": [
    "score = model.evaluate(test_x, test_y)"
   ]
  },
  {
   "cell_type": "code",
   "execution_count": 414,
   "id": "27ab9b7d",
   "metadata": {},
   "outputs": [
    {
     "name": "stdout",
     "output_type": "stream",
     "text": [
      "Accuracy:  0.7460317611694336\n"
     ]
    }
   ],
   "source": [
    "print('Accuracy: ',score[1])"
   ]
  },
  {
   "cell_type": "code",
   "execution_count": 415,
   "id": "fa9a875f",
   "metadata": {},
   "outputs": [],
   "source": [
    "pred = model.predict(test_x)"
   ]
  },
  {
   "cell_type": "code",
   "execution_count": 416,
   "id": "f695307a",
   "metadata": {},
   "outputs": [],
   "source": [
    "labels = ['Yes','No']"
   ]
  },
  {
   "cell_type": "code",
   "execution_count": 417,
   "id": "e9f4b603",
   "metadata": {},
   "outputs": [
    {
     "data": {
      "text/plain": [
       "<matplotlib.image.AxesImage at 0x2a41b5b6df0>"
      ]
     },
     "execution_count": 417,
     "metadata": {},
     "output_type": "execute_result"
    },
    {
     "data": {
      "image/png": "[encoded data removed]",
      "text/plain": [
       "<Figure size 432x288 with 1 Axes>"
      ]
     },
     "metadata": {
      "needs_background": "light"
     },
     "output_type": "display_data"
    }
   ],
   "source": [
    "plt.imshow(test_x[0])"
   ]
  },
  {
   "cell_type": "code",
   "execution_count": 418,
   "id": "f58676e9",
   "metadata": {},
   "outputs": [
    {
     "data": {
      "text/plain": [
       "1.0"
      ]
     },
     "execution_count": 418,
     "metadata": {},
     "output_type": "execute_result"
    }
   ],
   "source": [
    "test_y[0]"
   ]
  },
  {
   "cell_type": "code",
   "execution_count": 419,
   "id": "ef4ac6a9",
   "metadata": {},
   "outputs": [
    {
     "name": "stdout",
     "output_type": "stream",
     "text": [
      "Patient is diagnosed with brain tumor\n"
     ]
    }
   ],
   "source": [
    "if pred[0]>=0.99:\n",
    "    print('Patient is diagnosed with brain tumor')\n",
    "else:\n",
    "    print('Patient is safe from brain tumor')"
   ]
  },
  {
   "cell_type": "code",
   "execution_count": null,
   "id": "86e3563d",
   "metadata": {},
   "outputs": [],
   "source": []
  },
  {
   "cell_type": "code",
   "execution_count": null,
   "id": "1d280b55",
   "metadata": {},
   "outputs": [],
   "source": []
  },
  {
   "cell_type": "code",
   "execution_count": null,
   "id": "4057dc3f",
   "metadata": {},
   "outputs": [],
   "source": []
  },
  {
   "cell_type": "code",
   "execution_count": null,
   "id": "547d68aa",
   "metadata": {},
   "outputs": [],
   "source": []
  },
  {
   "cell_type": "code",
   "execution_count": null,
   "id": "ab7bc808",
   "metadata": {},
   "outputs": [],
   "source": []
  }
 ],
 "metadata": {
  "kernelspec": {
   "display_name": "Python 3 (ipykernel)",
   "language": "python",
   "name": "python3"
  },
  "language_info": {
   "codemirror_mode": {
    "name": "ipython",
    "version": 3
   },
   "file_extension": ".py",
   "mimetype": "text/x-python",
   "name": "python",
   "nbconvert_exporter": "python",
   "pygments_lexer": "ipython3",
   "version": "3.9.7"
  }
 },
 "nbformat": 4,
 "nbformat_minor": 5
}
